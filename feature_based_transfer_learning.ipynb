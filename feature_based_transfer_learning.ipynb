{
  "nbformat": 4,
  "nbformat_minor": 0,
  "metadata": {
    "colab": {
      "provenance": [],
      "gpuType": "T4",
      "authorship_tag": "ABX9TyNniZDkpZPIkFPqvlKk1/XU",
      "include_colab_link": true
    },
    "kernelspec": {
      "name": "python3",
      "display_name": "Python 3"
    },
    "language_info": {
      "name": "python"
    },
    "widgets": {
      "application/vnd.jupyter.widget-state+json": {
        "ea9ee8a686ef4460a8bec105094c073e": {
          "model_module": "@jupyter-widgets/controls",
          "model_name": "HBoxModel",
          "model_module_version": "1.5.0",
          "state": {
            "_dom_classes": [],
            "_model_module": "@jupyter-widgets/controls",
            "_model_module_version": "1.5.0",
            "_model_name": "HBoxModel",
            "_view_count": null,
            "_view_module": "@jupyter-widgets/controls",
            "_view_module_version": "1.5.0",
            "_view_name": "HBoxView",
            "box_style": "",
            "children": [
              "IPY_MODEL_52a11e262b49476191b696cc33db8e9d",
              "IPY_MODEL_8bb214016eed4b17b9b2020482bf7a18",
              "IPY_MODEL_df4aa60da4874ec5a37ce940ab11882e"
            ],
            "layout": "IPY_MODEL_562e16e57e224ae4a4f84a1d87dfc882"
          }
        },
        "52a11e262b49476191b696cc33db8e9d": {
          "model_module": "@jupyter-widgets/controls",
          "model_name": "HTMLModel",
          "model_module_version": "1.5.0",
          "state": {
            "_dom_classes": [],
            "_model_module": "@jupyter-widgets/controls",
            "_model_module_version": "1.5.0",
            "_model_name": "HTMLModel",
            "_view_count": null,
            "_view_module": "@jupyter-widgets/controls",
            "_view_module_version": "1.5.0",
            "_view_name": "HTMLView",
            "description": "",
            "description_tooltip": null,
            "layout": "IPY_MODEL_7d89982f2bc64312abe9fff28a209a8a",
            "placeholder": "​",
            "style": "IPY_MODEL_e25fc47fb6194aedbc9abb28ee9eedb7",
            "value": "Downloading (…)solve/main/vocab.txt: 100%"
          }
        },
        "8bb214016eed4b17b9b2020482bf7a18": {
          "model_module": "@jupyter-widgets/controls",
          "model_name": "FloatProgressModel",
          "model_module_version": "1.5.0",
          "state": {
            "_dom_classes": [],
            "_model_module": "@jupyter-widgets/controls",
            "_model_module_version": "1.5.0",
            "_model_name": "FloatProgressModel",
            "_view_count": null,
            "_view_module": "@jupyter-widgets/controls",
            "_view_module_version": "1.5.0",
            "_view_name": "ProgressView",
            "bar_style": "success",
            "description": "",
            "description_tooltip": null,
            "layout": "IPY_MODEL_dec0b54e87704a0b8826e45291346191",
            "max": 231508,
            "min": 0,
            "orientation": "horizontal",
            "style": "IPY_MODEL_ad9ecb1ee6304ddeaa596ecd36fa2384",
            "value": 231508
          }
        },
        "df4aa60da4874ec5a37ce940ab11882e": {
          "model_module": "@jupyter-widgets/controls",
          "model_name": "HTMLModel",
          "model_module_version": "1.5.0",
          "state": {
            "_dom_classes": [],
            "_model_module": "@jupyter-widgets/controls",
            "_model_module_version": "1.5.0",
            "_model_name": "HTMLModel",
            "_view_count": null,
            "_view_module": "@jupyter-widgets/controls",
            "_view_module_version": "1.5.0",
            "_view_name": "HTMLView",
            "description": "",
            "description_tooltip": null,
            "layout": "IPY_MODEL_7a14992f5ea346538ffffdcd39a8fb68",
            "placeholder": "​",
            "style": "IPY_MODEL_659396b06e5c4731875093976201ce29",
            "value": " 232k/232k [00:00&lt;00:00, 3.16MB/s]"
          }
        },
        "562e16e57e224ae4a4f84a1d87dfc882": {
          "model_module": "@jupyter-widgets/base",
          "model_name": "LayoutModel",
          "model_module_version": "1.2.0",
          "state": {
            "_model_module": "@jupyter-widgets/base",
            "_model_module_version": "1.2.0",
            "_model_name": "LayoutModel",
            "_view_count": null,
            "_view_module": "@jupyter-widgets/base",
            "_view_module_version": "1.2.0",
            "_view_name": "LayoutView",
            "align_content": null,
            "align_items": null,
            "align_self": null,
            "border": null,
            "bottom": null,
            "display": null,
            "flex": null,
            "flex_flow": null,
            "grid_area": null,
            "grid_auto_columns": null,
            "grid_auto_flow": null,
            "grid_auto_rows": null,
            "grid_column": null,
            "grid_gap": null,
            "grid_row": null,
            "grid_template_areas": null,
            "grid_template_columns": null,
            "grid_template_rows": null,
            "height": null,
            "justify_content": null,
            "justify_items": null,
            "left": null,
            "margin": null,
            "max_height": null,
            "max_width": null,
            "min_height": null,
            "min_width": null,
            "object_fit": null,
            "object_position": null,
            "order": null,
            "overflow": null,
            "overflow_x": null,
            "overflow_y": null,
            "padding": null,
            "right": null,
            "top": null,
            "visibility": null,
            "width": null
          }
        },
        "7d89982f2bc64312abe9fff28a209a8a": {
          "model_module": "@jupyter-widgets/base",
          "model_name": "LayoutModel",
          "model_module_version": "1.2.0",
          "state": {
            "_model_module": "@jupyter-widgets/base",
            "_model_module_version": "1.2.0",
            "_model_name": "LayoutModel",
            "_view_count": null,
            "_view_module": "@jupyter-widgets/base",
            "_view_module_version": "1.2.0",
            "_view_name": "LayoutView",
            "align_content": null,
            "align_items": null,
            "align_self": null,
            "border": null,
            "bottom": null,
            "display": null,
            "flex": null,
            "flex_flow": null,
            "grid_area": null,
            "grid_auto_columns": null,
            "grid_auto_flow": null,
            "grid_auto_rows": null,
            "grid_column": null,
            "grid_gap": null,
            "grid_row": null,
            "grid_template_areas": null,
            "grid_template_columns": null,
            "grid_template_rows": null,
            "height": null,
            "justify_content": null,
            "justify_items": null,
            "left": null,
            "margin": null,
            "max_height": null,
            "max_width": null,
            "min_height": null,
            "min_width": null,
            "object_fit": null,
            "object_position": null,
            "order": null,
            "overflow": null,
            "overflow_x": null,
            "overflow_y": null,
            "padding": null,
            "right": null,
            "top": null,
            "visibility": null,
            "width": null
          }
        },
        "e25fc47fb6194aedbc9abb28ee9eedb7": {
          "model_module": "@jupyter-widgets/controls",
          "model_name": "DescriptionStyleModel",
          "model_module_version": "1.5.0",
          "state": {
            "_model_module": "@jupyter-widgets/controls",
            "_model_module_version": "1.5.0",
            "_model_name": "DescriptionStyleModel",
            "_view_count": null,
            "_view_module": "@jupyter-widgets/base",
            "_view_module_version": "1.2.0",
            "_view_name": "StyleView",
            "description_width": ""
          }
        },
        "dec0b54e87704a0b8826e45291346191": {
          "model_module": "@jupyter-widgets/base",
          "model_name": "LayoutModel",
          "model_module_version": "1.2.0",
          "state": {
            "_model_module": "@jupyter-widgets/base",
            "_model_module_version": "1.2.0",
            "_model_name": "LayoutModel",
            "_view_count": null,
            "_view_module": "@jupyter-widgets/base",
            "_view_module_version": "1.2.0",
            "_view_name": "LayoutView",
            "align_content": null,
            "align_items": null,
            "align_self": null,
            "border": null,
            "bottom": null,
            "display": null,
            "flex": null,
            "flex_flow": null,
            "grid_area": null,
            "grid_auto_columns": null,
            "grid_auto_flow": null,
            "grid_auto_rows": null,
            "grid_column": null,
            "grid_gap": null,
            "grid_row": null,
            "grid_template_areas": null,
            "grid_template_columns": null,
            "grid_template_rows": null,
            "height": null,
            "justify_content": null,
            "justify_items": null,
            "left": null,
            "margin": null,
            "max_height": null,
            "max_width": null,
            "min_height": null,
            "min_width": null,
            "object_fit": null,
            "object_position": null,
            "order": null,
            "overflow": null,
            "overflow_x": null,
            "overflow_y": null,
            "padding": null,
            "right": null,
            "top": null,
            "visibility": null,
            "width": null
          }
        },
        "ad9ecb1ee6304ddeaa596ecd36fa2384": {
          "model_module": "@jupyter-widgets/controls",
          "model_name": "ProgressStyleModel",
          "model_module_version": "1.5.0",
          "state": {
            "_model_module": "@jupyter-widgets/controls",
            "_model_module_version": "1.5.0",
            "_model_name": "ProgressStyleModel",
            "_view_count": null,
            "_view_module": "@jupyter-widgets/base",
            "_view_module_version": "1.2.0",
            "_view_name": "StyleView",
            "bar_color": null,
            "description_width": ""
          }
        },
        "7a14992f5ea346538ffffdcd39a8fb68": {
          "model_module": "@jupyter-widgets/base",
          "model_name": "LayoutModel",
          "model_module_version": "1.2.0",
          "state": {
            "_model_module": "@jupyter-widgets/base",
            "_model_module_version": "1.2.0",
            "_model_name": "LayoutModel",
            "_view_count": null,
            "_view_module": "@jupyter-widgets/base",
            "_view_module_version": "1.2.0",
            "_view_name": "LayoutView",
            "align_content": null,
            "align_items": null,
            "align_self": null,
            "border": null,
            "bottom": null,
            "display": null,
            "flex": null,
            "flex_flow": null,
            "grid_area": null,
            "grid_auto_columns": null,
            "grid_auto_flow": null,
            "grid_auto_rows": null,
            "grid_column": null,
            "grid_gap": null,
            "grid_row": null,
            "grid_template_areas": null,
            "grid_template_columns": null,
            "grid_template_rows": null,
            "height": null,
            "justify_content": null,
            "justify_items": null,
            "left": null,
            "margin": null,
            "max_height": null,
            "max_width": null,
            "min_height": null,
            "min_width": null,
            "object_fit": null,
            "object_position": null,
            "order": null,
            "overflow": null,
            "overflow_x": null,
            "overflow_y": null,
            "padding": null,
            "right": null,
            "top": null,
            "visibility": null,
            "width": null
          }
        },
        "659396b06e5c4731875093976201ce29": {
          "model_module": "@jupyter-widgets/controls",
          "model_name": "DescriptionStyleModel",
          "model_module_version": "1.5.0",
          "state": {
            "_model_module": "@jupyter-widgets/controls",
            "_model_module_version": "1.5.0",
            "_model_name": "DescriptionStyleModel",
            "_view_count": null,
            "_view_module": "@jupyter-widgets/base",
            "_view_module_version": "1.2.0",
            "_view_name": "StyleView",
            "description_width": ""
          }
        },
        "2c46fec675ef489dae8bfb72f83cf954": {
          "model_module": "@jupyter-widgets/controls",
          "model_name": "HBoxModel",
          "model_module_version": "1.5.0",
          "state": {
            "_dom_classes": [],
            "_model_module": "@jupyter-widgets/controls",
            "_model_module_version": "1.5.0",
            "_model_name": "HBoxModel",
            "_view_count": null,
            "_view_module": "@jupyter-widgets/controls",
            "_view_module_version": "1.5.0",
            "_view_name": "HBoxView",
            "box_style": "",
            "children": [
              "IPY_MODEL_ffc478b367254e0c9d7c3a2e7b4590ec",
              "IPY_MODEL_a80eb5d7bd174f78b880226bcfa3d513",
              "IPY_MODEL_f0a67bc82b0a4558a0cad2424590de6d"
            ],
            "layout": "IPY_MODEL_16251823ea934ce5a75434625f7efc50"
          }
        },
        "ffc478b367254e0c9d7c3a2e7b4590ec": {
          "model_module": "@jupyter-widgets/controls",
          "model_name": "HTMLModel",
          "model_module_version": "1.5.0",
          "state": {
            "_dom_classes": [],
            "_model_module": "@jupyter-widgets/controls",
            "_model_module_version": "1.5.0",
            "_model_name": "HTMLModel",
            "_view_count": null,
            "_view_module": "@jupyter-widgets/controls",
            "_view_module_version": "1.5.0",
            "_view_name": "HTMLView",
            "description": "",
            "description_tooltip": null,
            "layout": "IPY_MODEL_10f9faf7934c4fafb81dc0db1a0a3da8",
            "placeholder": "​",
            "style": "IPY_MODEL_0aa11f01182a4547be0dbae1364bfaf9",
            "value": "Downloading (…)okenizer_config.json: 100%"
          }
        },
        "a80eb5d7bd174f78b880226bcfa3d513": {
          "model_module": "@jupyter-widgets/controls",
          "model_name": "FloatProgressModel",
          "model_module_version": "1.5.0",
          "state": {
            "_dom_classes": [],
            "_model_module": "@jupyter-widgets/controls",
            "_model_module_version": "1.5.0",
            "_model_name": "FloatProgressModel",
            "_view_count": null,
            "_view_module": "@jupyter-widgets/controls",
            "_view_module_version": "1.5.0",
            "_view_name": "ProgressView",
            "bar_style": "success",
            "description": "",
            "description_tooltip": null,
            "layout": "IPY_MODEL_4c223ff690d245da959c8fb46d2b6a19",
            "max": 28,
            "min": 0,
            "orientation": "horizontal",
            "style": "IPY_MODEL_fb728f6b95434fd99f9445aecb853f52",
            "value": 28
          }
        },
        "f0a67bc82b0a4558a0cad2424590de6d": {
          "model_module": "@jupyter-widgets/controls",
          "model_name": "HTMLModel",
          "model_module_version": "1.5.0",
          "state": {
            "_dom_classes": [],
            "_model_module": "@jupyter-widgets/controls",
            "_model_module_version": "1.5.0",
            "_model_name": "HTMLModel",
            "_view_count": null,
            "_view_module": "@jupyter-widgets/controls",
            "_view_module_version": "1.5.0",
            "_view_name": "HTMLView",
            "description": "",
            "description_tooltip": null,
            "layout": "IPY_MODEL_782c873b80814832bd0ec8a167ed96c5",
            "placeholder": "​",
            "style": "IPY_MODEL_b090a06aacc443b081217c8c87ef7e44",
            "value": " 28.0/28.0 [00:00&lt;00:00, 1.67kB/s]"
          }
        },
        "16251823ea934ce5a75434625f7efc50": {
          "model_module": "@jupyter-widgets/base",
          "model_name": "LayoutModel",
          "model_module_version": "1.2.0",
          "state": {
            "_model_module": "@jupyter-widgets/base",
            "_model_module_version": "1.2.0",
            "_model_name": "LayoutModel",
            "_view_count": null,
            "_view_module": "@jupyter-widgets/base",
            "_view_module_version": "1.2.0",
            "_view_name": "LayoutView",
            "align_content": null,
            "align_items": null,
            "align_self": null,
            "border": null,
            "bottom": null,
            "display": null,
            "flex": null,
            "flex_flow": null,
            "grid_area": null,
            "grid_auto_columns": null,
            "grid_auto_flow": null,
            "grid_auto_rows": null,
            "grid_column": null,
            "grid_gap": null,
            "grid_row": null,
            "grid_template_areas": null,
            "grid_template_columns": null,
            "grid_template_rows": null,
            "height": null,
            "justify_content": null,
            "justify_items": null,
            "left": null,
            "margin": null,
            "max_height": null,
            "max_width": null,
            "min_height": null,
            "min_width": null,
            "object_fit": null,
            "object_position": null,
            "order": null,
            "overflow": null,
            "overflow_x": null,
            "overflow_y": null,
            "padding": null,
            "right": null,
            "top": null,
            "visibility": null,
            "width": null
          }
        },
        "10f9faf7934c4fafb81dc0db1a0a3da8": {
          "model_module": "@jupyter-widgets/base",
          "model_name": "LayoutModel",
          "model_module_version": "1.2.0",
          "state": {
            "_model_module": "@jupyter-widgets/base",
            "_model_module_version": "1.2.0",
            "_model_name": "LayoutModel",
            "_view_count": null,
            "_view_module": "@jupyter-widgets/base",
            "_view_module_version": "1.2.0",
            "_view_name": "LayoutView",
            "align_content": null,
            "align_items": null,
            "align_self": null,
            "border": null,
            "bottom": null,
            "display": null,
            "flex": null,
            "flex_flow": null,
            "grid_area": null,
            "grid_auto_columns": null,
            "grid_auto_flow": null,
            "grid_auto_rows": null,
            "grid_column": null,
            "grid_gap": null,
            "grid_row": null,
            "grid_template_areas": null,
            "grid_template_columns": null,
            "grid_template_rows": null,
            "height": null,
            "justify_content": null,
            "justify_items": null,
            "left": null,
            "margin": null,
            "max_height": null,
            "max_width": null,
            "min_height": null,
            "min_width": null,
            "object_fit": null,
            "object_position": null,
            "order": null,
            "overflow": null,
            "overflow_x": null,
            "overflow_y": null,
            "padding": null,
            "right": null,
            "top": null,
            "visibility": null,
            "width": null
          }
        },
        "0aa11f01182a4547be0dbae1364bfaf9": {
          "model_module": "@jupyter-widgets/controls",
          "model_name": "DescriptionStyleModel",
          "model_module_version": "1.5.0",
          "state": {
            "_model_module": "@jupyter-widgets/controls",
            "_model_module_version": "1.5.0",
            "_model_name": "DescriptionStyleModel",
            "_view_count": null,
            "_view_module": "@jupyter-widgets/base",
            "_view_module_version": "1.2.0",
            "_view_name": "StyleView",
            "description_width": ""
          }
        },
        "4c223ff690d245da959c8fb46d2b6a19": {
          "model_module": "@jupyter-widgets/base",
          "model_name": "LayoutModel",
          "model_module_version": "1.2.0",
          "state": {
            "_model_module": "@jupyter-widgets/base",
            "_model_module_version": "1.2.0",
            "_model_name": "LayoutModel",
            "_view_count": null,
            "_view_module": "@jupyter-widgets/base",
            "_view_module_version": "1.2.0",
            "_view_name": "LayoutView",
            "align_content": null,
            "align_items": null,
            "align_self": null,
            "border": null,
            "bottom": null,
            "display": null,
            "flex": null,
            "flex_flow": null,
            "grid_area": null,
            "grid_auto_columns": null,
            "grid_auto_flow": null,
            "grid_auto_rows": null,
            "grid_column": null,
            "grid_gap": null,
            "grid_row": null,
            "grid_template_areas": null,
            "grid_template_columns": null,
            "grid_template_rows": null,
            "height": null,
            "justify_content": null,
            "justify_items": null,
            "left": null,
            "margin": null,
            "max_height": null,
            "max_width": null,
            "min_height": null,
            "min_width": null,
            "object_fit": null,
            "object_position": null,
            "order": null,
            "overflow": null,
            "overflow_x": null,
            "overflow_y": null,
            "padding": null,
            "right": null,
            "top": null,
            "visibility": null,
            "width": null
          }
        },
        "fb728f6b95434fd99f9445aecb853f52": {
          "model_module": "@jupyter-widgets/controls",
          "model_name": "ProgressStyleModel",
          "model_module_version": "1.5.0",
          "state": {
            "_model_module": "@jupyter-widgets/controls",
            "_model_module_version": "1.5.0",
            "_model_name": "ProgressStyleModel",
            "_view_count": null,
            "_view_module": "@jupyter-widgets/base",
            "_view_module_version": "1.2.0",
            "_view_name": "StyleView",
            "bar_color": null,
            "description_width": ""
          }
        },
        "782c873b80814832bd0ec8a167ed96c5": {
          "model_module": "@jupyter-widgets/base",
          "model_name": "LayoutModel",
          "model_module_version": "1.2.0",
          "state": {
            "_model_module": "@jupyter-widgets/base",
            "_model_module_version": "1.2.0",
            "_model_name": "LayoutModel",
            "_view_count": null,
            "_view_module": "@jupyter-widgets/base",
            "_view_module_version": "1.2.0",
            "_view_name": "LayoutView",
            "align_content": null,
            "align_items": null,
            "align_self": null,
            "border": null,
            "bottom": null,
            "display": null,
            "flex": null,
            "flex_flow": null,
            "grid_area": null,
            "grid_auto_columns": null,
            "grid_auto_flow": null,
            "grid_auto_rows": null,
            "grid_column": null,
            "grid_gap": null,
            "grid_row": null,
            "grid_template_areas": null,
            "grid_template_columns": null,
            "grid_template_rows": null,
            "height": null,
            "justify_content": null,
            "justify_items": null,
            "left": null,
            "margin": null,
            "max_height": null,
            "max_width": null,
            "min_height": null,
            "min_width": null,
            "object_fit": null,
            "object_position": null,
            "order": null,
            "overflow": null,
            "overflow_x": null,
            "overflow_y": null,
            "padding": null,
            "right": null,
            "top": null,
            "visibility": null,
            "width": null
          }
        },
        "b090a06aacc443b081217c8c87ef7e44": {
          "model_module": "@jupyter-widgets/controls",
          "model_name": "DescriptionStyleModel",
          "model_module_version": "1.5.0",
          "state": {
            "_model_module": "@jupyter-widgets/controls",
            "_model_module_version": "1.5.0",
            "_model_name": "DescriptionStyleModel",
            "_view_count": null,
            "_view_module": "@jupyter-widgets/base",
            "_view_module_version": "1.2.0",
            "_view_name": "StyleView",
            "description_width": ""
          }
        },
        "f9b1326f1015407690d09e0f33f28900": {
          "model_module": "@jupyter-widgets/controls",
          "model_name": "HBoxModel",
          "model_module_version": "1.5.0",
          "state": {
            "_dom_classes": [],
            "_model_module": "@jupyter-widgets/controls",
            "_model_module_version": "1.5.0",
            "_model_name": "HBoxModel",
            "_view_count": null,
            "_view_module": "@jupyter-widgets/controls",
            "_view_module_version": "1.5.0",
            "_view_name": "HBoxView",
            "box_style": "",
            "children": [
              "IPY_MODEL_eba5d41f683e48168aab325742c193b7",
              "IPY_MODEL_df1cea91e8214efab178857cb9491717",
              "IPY_MODEL_d760cd9887d0486495f9e91708585ad4"
            ],
            "layout": "IPY_MODEL_4fd88f86d6ab447f824e5595c230a1cf"
          }
        },
        "eba5d41f683e48168aab325742c193b7": {
          "model_module": "@jupyter-widgets/controls",
          "model_name": "HTMLModel",
          "model_module_version": "1.5.0",
          "state": {
            "_dom_classes": [],
            "_model_module": "@jupyter-widgets/controls",
            "_model_module_version": "1.5.0",
            "_model_name": "HTMLModel",
            "_view_count": null,
            "_view_module": "@jupyter-widgets/controls",
            "_view_module_version": "1.5.0",
            "_view_name": "HTMLView",
            "description": "",
            "description_tooltip": null,
            "layout": "IPY_MODEL_a985a7e384d94a6e93e0e01a97683549",
            "placeholder": "​",
            "style": "IPY_MODEL_68b7aea788054ba2ba34bc1f6bcc3a77",
            "value": "Downloading (…)lve/main/config.json: 100%"
          }
        },
        "df1cea91e8214efab178857cb9491717": {
          "model_module": "@jupyter-widgets/controls",
          "model_name": "FloatProgressModel",
          "model_module_version": "1.5.0",
          "state": {
            "_dom_classes": [],
            "_model_module": "@jupyter-widgets/controls",
            "_model_module_version": "1.5.0",
            "_model_name": "FloatProgressModel",
            "_view_count": null,
            "_view_module": "@jupyter-widgets/controls",
            "_view_module_version": "1.5.0",
            "_view_name": "ProgressView",
            "bar_style": "success",
            "description": "",
            "description_tooltip": null,
            "layout": "IPY_MODEL_e4168616dd8c4de3ba79bdb39d70269b",
            "max": 483,
            "min": 0,
            "orientation": "horizontal",
            "style": "IPY_MODEL_477f8020ed3d487382cce4490297c28d",
            "value": 483
          }
        },
        "d760cd9887d0486495f9e91708585ad4": {
          "model_module": "@jupyter-widgets/controls",
          "model_name": "HTMLModel",
          "model_module_version": "1.5.0",
          "state": {
            "_dom_classes": [],
            "_model_module": "@jupyter-widgets/controls",
            "_model_module_version": "1.5.0",
            "_model_name": "HTMLModel",
            "_view_count": null,
            "_view_module": "@jupyter-widgets/controls",
            "_view_module_version": "1.5.0",
            "_view_name": "HTMLView",
            "description": "",
            "description_tooltip": null,
            "layout": "IPY_MODEL_6993bcc6abab47ed8170ebf3ca1051c1",
            "placeholder": "​",
            "style": "IPY_MODEL_13e6013defd748f2a4b9e4cb18040588",
            "value": " 483/483 [00:00&lt;00:00, 14.0kB/s]"
          }
        },
        "4fd88f86d6ab447f824e5595c230a1cf": {
          "model_module": "@jupyter-widgets/base",
          "model_name": "LayoutModel",
          "model_module_version": "1.2.0",
          "state": {
            "_model_module": "@jupyter-widgets/base",
            "_model_module_version": "1.2.0",
            "_model_name": "LayoutModel",
            "_view_count": null,
            "_view_module": "@jupyter-widgets/base",
            "_view_module_version": "1.2.0",
            "_view_name": "LayoutView",
            "align_content": null,
            "align_items": null,
            "align_self": null,
            "border": null,
            "bottom": null,
            "display": null,
            "flex": null,
            "flex_flow": null,
            "grid_area": null,
            "grid_auto_columns": null,
            "grid_auto_flow": null,
            "grid_auto_rows": null,
            "grid_column": null,
            "grid_gap": null,
            "grid_row": null,
            "grid_template_areas": null,
            "grid_template_columns": null,
            "grid_template_rows": null,
            "height": null,
            "justify_content": null,
            "justify_items": null,
            "left": null,
            "margin": null,
            "max_height": null,
            "max_width": null,
            "min_height": null,
            "min_width": null,
            "object_fit": null,
            "object_position": null,
            "order": null,
            "overflow": null,
            "overflow_x": null,
            "overflow_y": null,
            "padding": null,
            "right": null,
            "top": null,
            "visibility": null,
            "width": null
          }
        },
        "a985a7e384d94a6e93e0e01a97683549": {
          "model_module": "@jupyter-widgets/base",
          "model_name": "LayoutModel",
          "model_module_version": "1.2.0",
          "state": {
            "_model_module": "@jupyter-widgets/base",
            "_model_module_version": "1.2.0",
            "_model_name": "LayoutModel",
            "_view_count": null,
            "_view_module": "@jupyter-widgets/base",
            "_view_module_version": "1.2.0",
            "_view_name": "LayoutView",
            "align_content": null,
            "align_items": null,
            "align_self": null,
            "border": null,
            "bottom": null,
            "display": null,
            "flex": null,
            "flex_flow": null,
            "grid_area": null,
            "grid_auto_columns": null,
            "grid_auto_flow": null,
            "grid_auto_rows": null,
            "grid_column": null,
            "grid_gap": null,
            "grid_row": null,
            "grid_template_areas": null,
            "grid_template_columns": null,
            "grid_template_rows": null,
            "height": null,
            "justify_content": null,
            "justify_items": null,
            "left": null,
            "margin": null,
            "max_height": null,
            "max_width": null,
            "min_height": null,
            "min_width": null,
            "object_fit": null,
            "object_position": null,
            "order": null,
            "overflow": null,
            "overflow_x": null,
            "overflow_y": null,
            "padding": null,
            "right": null,
            "top": null,
            "visibility": null,
            "width": null
          }
        },
        "68b7aea788054ba2ba34bc1f6bcc3a77": {
          "model_module": "@jupyter-widgets/controls",
          "model_name": "DescriptionStyleModel",
          "model_module_version": "1.5.0",
          "state": {
            "_model_module": "@jupyter-widgets/controls",
            "_model_module_version": "1.5.0",
            "_model_name": "DescriptionStyleModel",
            "_view_count": null,
            "_view_module": "@jupyter-widgets/base",
            "_view_module_version": "1.2.0",
            "_view_name": "StyleView",
            "description_width": ""
          }
        },
        "e4168616dd8c4de3ba79bdb39d70269b": {
          "model_module": "@jupyter-widgets/base",
          "model_name": "LayoutModel",
          "model_module_version": "1.2.0",
          "state": {
            "_model_module": "@jupyter-widgets/base",
            "_model_module_version": "1.2.0",
            "_model_name": "LayoutModel",
            "_view_count": null,
            "_view_module": "@jupyter-widgets/base",
            "_view_module_version": "1.2.0",
            "_view_name": "LayoutView",
            "align_content": null,
            "align_items": null,
            "align_self": null,
            "border": null,
            "bottom": null,
            "display": null,
            "flex": null,
            "flex_flow": null,
            "grid_area": null,
            "grid_auto_columns": null,
            "grid_auto_flow": null,
            "grid_auto_rows": null,
            "grid_column": null,
            "grid_gap": null,
            "grid_row": null,
            "grid_template_areas": null,
            "grid_template_columns": null,
            "grid_template_rows": null,
            "height": null,
            "justify_content": null,
            "justify_items": null,
            "left": null,
            "margin": null,
            "max_height": null,
            "max_width": null,
            "min_height": null,
            "min_width": null,
            "object_fit": null,
            "object_position": null,
            "order": null,
            "overflow": null,
            "overflow_x": null,
            "overflow_y": null,
            "padding": null,
            "right": null,
            "top": null,
            "visibility": null,
            "width": null
          }
        },
        "477f8020ed3d487382cce4490297c28d": {
          "model_module": "@jupyter-widgets/controls",
          "model_name": "ProgressStyleModel",
          "model_module_version": "1.5.0",
          "state": {
            "_model_module": "@jupyter-widgets/controls",
            "_model_module_version": "1.5.0",
            "_model_name": "ProgressStyleModel",
            "_view_count": null,
            "_view_module": "@jupyter-widgets/base",
            "_view_module_version": "1.2.0",
            "_view_name": "StyleView",
            "bar_color": null,
            "description_width": ""
          }
        },
        "6993bcc6abab47ed8170ebf3ca1051c1": {
          "model_module": "@jupyter-widgets/base",
          "model_name": "LayoutModel",
          "model_module_version": "1.2.0",
          "state": {
            "_model_module": "@jupyter-widgets/base",
            "_model_module_version": "1.2.0",
            "_model_name": "LayoutModel",
            "_view_count": null,
            "_view_module": "@jupyter-widgets/base",
            "_view_module_version": "1.2.0",
            "_view_name": "LayoutView",
            "align_content": null,
            "align_items": null,
            "align_self": null,
            "border": null,
            "bottom": null,
            "display": null,
            "flex": null,
            "flex_flow": null,
            "grid_area": null,
            "grid_auto_columns": null,
            "grid_auto_flow": null,
            "grid_auto_rows": null,
            "grid_column": null,
            "grid_gap": null,
            "grid_row": null,
            "grid_template_areas": null,
            "grid_template_columns": null,
            "grid_template_rows": null,
            "height": null,
            "justify_content": null,
            "justify_items": null,
            "left": null,
            "margin": null,
            "max_height": null,
            "max_width": null,
            "min_height": null,
            "min_width": null,
            "object_fit": null,
            "object_position": null,
            "order": null,
            "overflow": null,
            "overflow_x": null,
            "overflow_y": null,
            "padding": null,
            "right": null,
            "top": null,
            "visibility": null,
            "width": null
          }
        },
        "13e6013defd748f2a4b9e4cb18040588": {
          "model_module": "@jupyter-widgets/controls",
          "model_name": "DescriptionStyleModel",
          "model_module_version": "1.5.0",
          "state": {
            "_model_module": "@jupyter-widgets/controls",
            "_model_module_version": "1.5.0",
            "_model_name": "DescriptionStyleModel",
            "_view_count": null,
            "_view_module": "@jupyter-widgets/base",
            "_view_module_version": "1.2.0",
            "_view_name": "StyleView",
            "description_width": ""
          }
        },
        "ea83f4a9fa9d4ef395c620144b48d28f": {
          "model_module": "@jupyter-widgets/controls",
          "model_name": "HBoxModel",
          "model_module_version": "1.5.0",
          "state": {
            "_dom_classes": [],
            "_model_module": "@jupyter-widgets/controls",
            "_model_module_version": "1.5.0",
            "_model_name": "HBoxModel",
            "_view_count": null,
            "_view_module": "@jupyter-widgets/controls",
            "_view_module_version": "1.5.0",
            "_view_name": "HBoxView",
            "box_style": "",
            "children": [
              "IPY_MODEL_c8976cb367774010bd6aeee4d5104839",
              "IPY_MODEL_6aea91d932014a59a5fb31a0632624ca",
              "IPY_MODEL_536288ca0d694ce887d950b7ea3f1fb4"
            ],
            "layout": "IPY_MODEL_73520bddd4c948ca95678e1331223eb6"
          }
        },
        "c8976cb367774010bd6aeee4d5104839": {
          "model_module": "@jupyter-widgets/controls",
          "model_name": "HTMLModel",
          "model_module_version": "1.5.0",
          "state": {
            "_dom_classes": [],
            "_model_module": "@jupyter-widgets/controls",
            "_model_module_version": "1.5.0",
            "_model_name": "HTMLModel",
            "_view_count": null,
            "_view_module": "@jupyter-widgets/controls",
            "_view_module_version": "1.5.0",
            "_view_name": "HTMLView",
            "description": "",
            "description_tooltip": null,
            "layout": "IPY_MODEL_a02293d3d6814df0b32a1bf313a390b6",
            "placeholder": "​",
            "style": "IPY_MODEL_e59f8a3a05d640e08e82912603b5d527",
            "value": "Downloading pytorch_model.bin: 100%"
          }
        },
        "6aea91d932014a59a5fb31a0632624ca": {
          "model_module": "@jupyter-widgets/controls",
          "model_name": "FloatProgressModel",
          "model_module_version": "1.5.0",
          "state": {
            "_dom_classes": [],
            "_model_module": "@jupyter-widgets/controls",
            "_model_module_version": "1.5.0",
            "_model_name": "FloatProgressModel",
            "_view_count": null,
            "_view_module": "@jupyter-widgets/controls",
            "_view_module_version": "1.5.0",
            "_view_name": "ProgressView",
            "bar_style": "success",
            "description": "",
            "description_tooltip": null,
            "layout": "IPY_MODEL_14c1850223aa4ed5810f4fdbdd196eb8",
            "max": 267967963,
            "min": 0,
            "orientation": "horizontal",
            "style": "IPY_MODEL_54f96164cbfb439d9eb0ac0e9615b2ed",
            "value": 267967963
          }
        },
        "536288ca0d694ce887d950b7ea3f1fb4": {
          "model_module": "@jupyter-widgets/controls",
          "model_name": "HTMLModel",
          "model_module_version": "1.5.0",
          "state": {
            "_dom_classes": [],
            "_model_module": "@jupyter-widgets/controls",
            "_model_module_version": "1.5.0",
            "_model_name": "HTMLModel",
            "_view_count": null,
            "_view_module": "@jupyter-widgets/controls",
            "_view_module_version": "1.5.0",
            "_view_name": "HTMLView",
            "description": "",
            "description_tooltip": null,
            "layout": "IPY_MODEL_ab8e398e296a4fc99b76fa69529d81b3",
            "placeholder": "​",
            "style": "IPY_MODEL_fadc0f2dcbad41f3ab11dc6e73781088",
            "value": " 268M/268M [00:02&lt;00:00, 142MB/s]"
          }
        },
        "73520bddd4c948ca95678e1331223eb6": {
          "model_module": "@jupyter-widgets/base",
          "model_name": "LayoutModel",
          "model_module_version": "1.2.0",
          "state": {
            "_model_module": "@jupyter-widgets/base",
            "_model_module_version": "1.2.0",
            "_model_name": "LayoutModel",
            "_view_count": null,
            "_view_module": "@jupyter-widgets/base",
            "_view_module_version": "1.2.0",
            "_view_name": "LayoutView",
            "align_content": null,
            "align_items": null,
            "align_self": null,
            "border": null,
            "bottom": null,
            "display": null,
            "flex": null,
            "flex_flow": null,
            "grid_area": null,
            "grid_auto_columns": null,
            "grid_auto_flow": null,
            "grid_auto_rows": null,
            "grid_column": null,
            "grid_gap": null,
            "grid_row": null,
            "grid_template_areas": null,
            "grid_template_columns": null,
            "grid_template_rows": null,
            "height": null,
            "justify_content": null,
            "justify_items": null,
            "left": null,
            "margin": null,
            "max_height": null,
            "max_width": null,
            "min_height": null,
            "min_width": null,
            "object_fit": null,
            "object_position": null,
            "order": null,
            "overflow": null,
            "overflow_x": null,
            "overflow_y": null,
            "padding": null,
            "right": null,
            "top": null,
            "visibility": null,
            "width": null
          }
        },
        "a02293d3d6814df0b32a1bf313a390b6": {
          "model_module": "@jupyter-widgets/base",
          "model_name": "LayoutModel",
          "model_module_version": "1.2.0",
          "state": {
            "_model_module": "@jupyter-widgets/base",
            "_model_module_version": "1.2.0",
            "_model_name": "LayoutModel",
            "_view_count": null,
            "_view_module": "@jupyter-widgets/base",
            "_view_module_version": "1.2.0",
            "_view_name": "LayoutView",
            "align_content": null,
            "align_items": null,
            "align_self": null,
            "border": null,
            "bottom": null,
            "display": null,
            "flex": null,
            "flex_flow": null,
            "grid_area": null,
            "grid_auto_columns": null,
            "grid_auto_flow": null,
            "grid_auto_rows": null,
            "grid_column": null,
            "grid_gap": null,
            "grid_row": null,
            "grid_template_areas": null,
            "grid_template_columns": null,
            "grid_template_rows": null,
            "height": null,
            "justify_content": null,
            "justify_items": null,
            "left": null,
            "margin": null,
            "max_height": null,
            "max_width": null,
            "min_height": null,
            "min_width": null,
            "object_fit": null,
            "object_position": null,
            "order": null,
            "overflow": null,
            "overflow_x": null,
            "overflow_y": null,
            "padding": null,
            "right": null,
            "top": null,
            "visibility": null,
            "width": null
          }
        },
        "e59f8a3a05d640e08e82912603b5d527": {
          "model_module": "@jupyter-widgets/controls",
          "model_name": "DescriptionStyleModel",
          "model_module_version": "1.5.0",
          "state": {
            "_model_module": "@jupyter-widgets/controls",
            "_model_module_version": "1.5.0",
            "_model_name": "DescriptionStyleModel",
            "_view_count": null,
            "_view_module": "@jupyter-widgets/base",
            "_view_module_version": "1.2.0",
            "_view_name": "StyleView",
            "description_width": ""
          }
        },
        "14c1850223aa4ed5810f4fdbdd196eb8": {
          "model_module": "@jupyter-widgets/base",
          "model_name": "LayoutModel",
          "model_module_version": "1.2.0",
          "state": {
            "_model_module": "@jupyter-widgets/base",
            "_model_module_version": "1.2.0",
            "_model_name": "LayoutModel",
            "_view_count": null,
            "_view_module": "@jupyter-widgets/base",
            "_view_module_version": "1.2.0",
            "_view_name": "LayoutView",
            "align_content": null,
            "align_items": null,
            "align_self": null,
            "border": null,
            "bottom": null,
            "display": null,
            "flex": null,
            "flex_flow": null,
            "grid_area": null,
            "grid_auto_columns": null,
            "grid_auto_flow": null,
            "grid_auto_rows": null,
            "grid_column": null,
            "grid_gap": null,
            "grid_row": null,
            "grid_template_areas": null,
            "grid_template_columns": null,
            "grid_template_rows": null,
            "height": null,
            "justify_content": null,
            "justify_items": null,
            "left": null,
            "margin": null,
            "max_height": null,
            "max_width": null,
            "min_height": null,
            "min_width": null,
            "object_fit": null,
            "object_position": null,
            "order": null,
            "overflow": null,
            "overflow_x": null,
            "overflow_y": null,
            "padding": null,
            "right": null,
            "top": null,
            "visibility": null,
            "width": null
          }
        },
        "54f96164cbfb439d9eb0ac0e9615b2ed": {
          "model_module": "@jupyter-widgets/controls",
          "model_name": "ProgressStyleModel",
          "model_module_version": "1.5.0",
          "state": {
            "_model_module": "@jupyter-widgets/controls",
            "_model_module_version": "1.5.0",
            "_model_name": "ProgressStyleModel",
            "_view_count": null,
            "_view_module": "@jupyter-widgets/base",
            "_view_module_version": "1.2.0",
            "_view_name": "StyleView",
            "bar_color": null,
            "description_width": ""
          }
        },
        "ab8e398e296a4fc99b76fa69529d81b3": {
          "model_module": "@jupyter-widgets/base",
          "model_name": "LayoutModel",
          "model_module_version": "1.2.0",
          "state": {
            "_model_module": "@jupyter-widgets/base",
            "_model_module_version": "1.2.0",
            "_model_name": "LayoutModel",
            "_view_count": null,
            "_view_module": "@jupyter-widgets/base",
            "_view_module_version": "1.2.0",
            "_view_name": "LayoutView",
            "align_content": null,
            "align_items": null,
            "align_self": null,
            "border": null,
            "bottom": null,
            "display": null,
            "flex": null,
            "flex_flow": null,
            "grid_area": null,
            "grid_auto_columns": null,
            "grid_auto_flow": null,
            "grid_auto_rows": null,
            "grid_column": null,
            "grid_gap": null,
            "grid_row": null,
            "grid_template_areas": null,
            "grid_template_columns": null,
            "grid_template_rows": null,
            "height": null,
            "justify_content": null,
            "justify_items": null,
            "left": null,
            "margin": null,
            "max_height": null,
            "max_width": null,
            "min_height": null,
            "min_width": null,
            "object_fit": null,
            "object_position": null,
            "order": null,
            "overflow": null,
            "overflow_x": null,
            "overflow_y": null,
            "padding": null,
            "right": null,
            "top": null,
            "visibility": null,
            "width": null
          }
        },
        "fadc0f2dcbad41f3ab11dc6e73781088": {
          "model_module": "@jupyter-widgets/controls",
          "model_name": "DescriptionStyleModel",
          "model_module_version": "1.5.0",
          "state": {
            "_model_module": "@jupyter-widgets/controls",
            "_model_module_version": "1.5.0",
            "_model_name": "DescriptionStyleModel",
            "_view_count": null,
            "_view_module": "@jupyter-widgets/base",
            "_view_module_version": "1.2.0",
            "_view_name": "StyleView",
            "description_width": ""
          }
        }
      }
    },
    "accelerator": "GPU",
    "gpuClass": "standard"
  },
  "cells": [
    {
      "cell_type": "markdown",
      "metadata": {
        "id": "view-in-github",
        "colab_type": "text"
      },
      "source": [
        "<a href=\"https://colab.research.google.com/github/mahii6991/transfer_learning_bert/blob/main/feature_based_transfer_learning.ipynb\" target=\"_parent\"><img src=\"https://colab.research.google.com/assets/colab-badge.svg\" alt=\"Open In Colab\"/></a>"
      ]
    },
    {
      "cell_type": "markdown",
      "source": [
        "# Helper Functions"
      ],
      "metadata": {
        "id": "UFDkUZyHkB1T"
      }
    },
    {
      "cell_type": "markdown",
      "source": [
        "A file named helper_functions.py would typically contain various functions or classes that provide additional utility and support for a specific project or task. These functions could include data preprocessing functions, model evaluation functions, visualization functions, or other custom utility functions."
      ],
      "metadata": {
        "id": "sDOjsPwTjWii"
      }
    },
    {
      "cell_type": "code",
      "source": [
        " !wget https://raw.githubusercontent.com/mrdbourke/tensorflow-deep-learning/main/extras/helper_functions.py"
      ],
      "metadata": {
        "colab": {
          "base_uri": "https://localhost:8080/"
        },
        "id": "dbVF31wFWpqn",
        "outputId": "bfe39edb-7e88-49b9-8628-d5fa670ee6d6"
      },
      "execution_count": null,
      "outputs": [
        {
          "output_type": "stream",
          "name": "stdout",
          "text": [
            "--2023-05-23 14:11:40--  https://raw.githubusercontent.com/mrdbourke/tensorflow-deep-learning/main/extras/helper_functions.py\n",
            "Resolving raw.githubusercontent.com (raw.githubusercontent.com)... 185.199.110.133, 185.199.111.133, 185.199.109.133, ...\n",
            "Connecting to raw.githubusercontent.com (raw.githubusercontent.com)|185.199.110.133|:443... connected.\n",
            "HTTP request sent, awaiting response... 200 OK\n",
            "Length: 10246 (10K) [text/plain]\n",
            "Saving to: ‘helper_functions.py.1’\n",
            "\n",
            "\rhelper_functions.py   0%[                    ]       0  --.-KB/s               \rhelper_functions.py 100%[===================>]  10.01K  --.-KB/s    in 0s      \n",
            "\n",
            "2023-05-23 14:11:40 (77.1 MB/s) - ‘helper_functions.py.1’ saved [10246/10246]\n",
            "\n"
          ]
        }
      ]
    },
    {
      "cell_type": "code",
      "execution_count": null,
      "metadata": {
        "id": "Gf3z5nBUV-9w"
      },
      "outputs": [],
      "source": [
        "#here we will be coding a feature based , or working on the feature based model and understanding its accuracy with respect to our dataset\n",
        "from helper_functions import unzip_data, calculate_results\n",
        "unzip_data('/content/train_test.zip')"
      ]
    },
    {
      "cell_type": "markdown",
      "source": [
        "# Loading Data-Set"
      ],
      "metadata": {
        "id": "vOfBFswbkMEZ"
      }
    },
    {
      "cell_type": "code",
      "source": [
        "import pandas as pd\n",
        "df_train = pd.read_csv('/content/train.csv')\n",
        "df_train.head()"
      ],
      "metadata": {
        "colab": {
          "base_uri": "https://localhost:8080/",
          "height": 206
        },
        "id": "ppLAkVfVWgLQ",
        "outputId": "cbee2c47-9e04-46cc-832f-1710f611cec4"
      },
      "execution_count": null,
      "outputs": [
        {
          "output_type": "execute_result",
          "data": {
            "text/plain": [
              "   Unnamed: 0                                          sentences  \\\n",
              "0           0  “Brands that optimized their eGift and gift ca...   \n",
              "1           1   This is a huge win for retailers, as gift car...   \n",
              "2           4   This is a huge win for retailers, as gift car...   \n",
              "3           5           by[E1] Esther Shein[/E1] in [E2]CXO[/E2]   \n",
              "4           6  COVID-19 has forced many organizations to rein...   \n",
              "\n",
              "              Subject             Object   relations  relations_id  \n",
              "0    Theresa McEndree  Blackhawk Network   managerOf             0  \n",
              "1   Theresa McEndree,  Blackhawk Network   managerOf             0  \n",
              "2    Theresa McEndree  Blackhawk Network  employedBy             2  \n",
              "3        Esther Shein                CXO  employedBy             2  \n",
              "4  Claudia Crummenerl   Capgemini Invent   managerOf             0  "
            ],
            "text/html": [
              "\n",
              "  <div id=\"df-db91f0e4-9c4a-46db-af49-6cea94ce86f1\">\n",
              "    <div class=\"colab-df-container\">\n",
              "      <div>\n",
              "<style scoped>\n",
              "    .dataframe tbody tr th:only-of-type {\n",
              "        vertical-align: middle;\n",
              "    }\n",
              "\n",
              "    .dataframe tbody tr th {\n",
              "        vertical-align: top;\n",
              "    }\n",
              "\n",
              "    .dataframe thead th {\n",
              "        text-align: right;\n",
              "    }\n",
              "</style>\n",
              "<table border=\"1\" class=\"dataframe\">\n",
              "  <thead>\n",
              "    <tr style=\"text-align: right;\">\n",
              "      <th></th>\n",
              "      <th>Unnamed: 0</th>\n",
              "      <th>sentences</th>\n",
              "      <th>Subject</th>\n",
              "      <th>Object</th>\n",
              "      <th>relations</th>\n",
              "      <th>relations_id</th>\n",
              "    </tr>\n",
              "  </thead>\n",
              "  <tbody>\n",
              "    <tr>\n",
              "      <th>0</th>\n",
              "      <td>0</td>\n",
              "      <td>“Brands that optimized their eGift and gift ca...</td>\n",
              "      <td>Theresa McEndree</td>\n",
              "      <td>Blackhawk Network</td>\n",
              "      <td>managerOf</td>\n",
              "      <td>0</td>\n",
              "    </tr>\n",
              "    <tr>\n",
              "      <th>1</th>\n",
              "      <td>1</td>\n",
              "      <td>This is a huge win for retailers, as gift car...</td>\n",
              "      <td>Theresa McEndree,</td>\n",
              "      <td>Blackhawk Network</td>\n",
              "      <td>managerOf</td>\n",
              "      <td>0</td>\n",
              "    </tr>\n",
              "    <tr>\n",
              "      <th>2</th>\n",
              "      <td>4</td>\n",
              "      <td>This is a huge win for retailers, as gift car...</td>\n",
              "      <td>Theresa McEndree</td>\n",
              "      <td>Blackhawk Network</td>\n",
              "      <td>employedBy</td>\n",
              "      <td>2</td>\n",
              "    </tr>\n",
              "    <tr>\n",
              "      <th>3</th>\n",
              "      <td>5</td>\n",
              "      <td>by[E1] Esther Shein[/E1] in [E2]CXO[/E2]</td>\n",
              "      <td>Esther Shein</td>\n",
              "      <td>CXO</td>\n",
              "      <td>employedBy</td>\n",
              "      <td>2</td>\n",
              "    </tr>\n",
              "    <tr>\n",
              "      <th>4</th>\n",
              "      <td>6</td>\n",
              "      <td>COVID-19 has forced many organizations to rein...</td>\n",
              "      <td>Claudia Crummenerl</td>\n",
              "      <td>Capgemini Invent</td>\n",
              "      <td>managerOf</td>\n",
              "      <td>0</td>\n",
              "    </tr>\n",
              "  </tbody>\n",
              "</table>\n",
              "</div>\n",
              "      <button class=\"colab-df-convert\" onclick=\"convertToInteractive('df-db91f0e4-9c4a-46db-af49-6cea94ce86f1')\"\n",
              "              title=\"Convert this dataframe to an interactive table.\"\n",
              "              style=\"display:none;\">\n",
              "        \n",
              "  <svg xmlns=\"http://www.w3.org/2000/svg\" height=\"24px\"viewBox=\"0 0 24 24\"\n",
              "       width=\"24px\">\n",
              "    <path d=\"M0 0h24v24H0V0z\" fill=\"none\"/>\n",
              "    <path d=\"M18.56 5.44l.94 2.06.94-2.06 2.06-.94-2.06-.94-.94-2.06-.94 2.06-2.06.94zm-11 1L8.5 8.5l.94-2.06 2.06-.94-2.06-.94L8.5 2.5l-.94 2.06-2.06.94zm10 10l.94 2.06.94-2.06 2.06-.94-2.06-.94-.94-2.06-.94 2.06-2.06.94z\"/><path d=\"M17.41 7.96l-1.37-1.37c-.4-.4-.92-.59-1.43-.59-.52 0-1.04.2-1.43.59L10.3 9.45l-7.72 7.72c-.78.78-.78 2.05 0 2.83L4 21.41c.39.39.9.59 1.41.59.51 0 1.02-.2 1.41-.59l7.78-7.78 2.81-2.81c.8-.78.8-2.07 0-2.86zM5.41 20L4 18.59l7.72-7.72 1.47 1.35L5.41 20z\"/>\n",
              "  </svg>\n",
              "      </button>\n",
              "      \n",
              "  <style>\n",
              "    .colab-df-container {\n",
              "      display:flex;\n",
              "      flex-wrap:wrap;\n",
              "      gap: 12px;\n",
              "    }\n",
              "\n",
              "    .colab-df-convert {\n",
              "      background-color: #E8F0FE;\n",
              "      border: none;\n",
              "      border-radius: 50%;\n",
              "      cursor: pointer;\n",
              "      display: none;\n",
              "      fill: #1967D2;\n",
              "      height: 32px;\n",
              "      padding: 0 0 0 0;\n",
              "      width: 32px;\n",
              "    }\n",
              "\n",
              "    .colab-df-convert:hover {\n",
              "      background-color: #E2EBFA;\n",
              "      box-shadow: 0px 1px 2px rgba(60, 64, 67, 0.3), 0px 1px 3px 1px rgba(60, 64, 67, 0.15);\n",
              "      fill: #174EA6;\n",
              "    }\n",
              "\n",
              "    [theme=dark] .colab-df-convert {\n",
              "      background-color: #3B4455;\n",
              "      fill: #D2E3FC;\n",
              "    }\n",
              "\n",
              "    [theme=dark] .colab-df-convert:hover {\n",
              "      background-color: #434B5C;\n",
              "      box-shadow: 0px 1px 3px 1px rgba(0, 0, 0, 0.15);\n",
              "      filter: drop-shadow(0px 1px 2px rgba(0, 0, 0, 0.3));\n",
              "      fill: #FFFFFF;\n",
              "    }\n",
              "  </style>\n",
              "\n",
              "      <script>\n",
              "        const buttonEl =\n",
              "          document.querySelector('#df-db91f0e4-9c4a-46db-af49-6cea94ce86f1 button.colab-df-convert');\n",
              "        buttonEl.style.display =\n",
              "          google.colab.kernel.accessAllowed ? 'block' : 'none';\n",
              "\n",
              "        async function convertToInteractive(key) {\n",
              "          const element = document.querySelector('#df-db91f0e4-9c4a-46db-af49-6cea94ce86f1');\n",
              "          const dataTable =\n",
              "            await google.colab.kernel.invokeFunction('convertToInteractive',\n",
              "                                                     [key], {});\n",
              "          if (!dataTable) return;\n",
              "\n",
              "          const docLinkHtml = 'Like what you see? Visit the ' +\n",
              "            '<a target=\"_blank\" href=https://colab.research.google.com/notebooks/data_table.ipynb>data table notebook</a>'\n",
              "            + ' to learn more about interactive tables.';\n",
              "          element.innerHTML = '';\n",
              "          dataTable['output_type'] = 'display_data';\n",
              "          await google.colab.output.renderOutput(dataTable, element);\n",
              "          const docLink = document.createElement('div');\n",
              "          docLink.innerHTML = docLinkHtml;\n",
              "          element.appendChild(docLink);\n",
              "        }\n",
              "      </script>\n",
              "    </div>\n",
              "  </div>\n",
              "  "
            ]
          },
          "metadata": {},
          "execution_count": 3
        }
      ]
    },
    {
      "cell_type": "code",
      "source": [
        "df_train.shape"
      ],
      "metadata": {
        "colab": {
          "base_uri": "https://localhost:8080/"
        },
        "id": "b1ZDYMlbdbr-",
        "outputId": "b379c6a1-74f9-473b-b182-560859c5982e"
      },
      "execution_count": null,
      "outputs": [
        {
          "output_type": "execute_result",
          "data": {
            "text/plain": [
              "(814, 6)"
            ]
          },
          "metadata": {},
          "execution_count": 4
        }
      ]
    },
    {
      "cell_type": "code",
      "source": [
        "df_train['sentences'][0]"
      ],
      "metadata": {
        "colab": {
          "base_uri": "https://localhost:8080/",
          "height": 122
        },
        "id": "cKKJEsshW_xz",
        "outputId": "f17e0bb8-c91b-4638-93b8-889cc729d155"
      },
      "execution_count": null,
      "outputs": [
        {
          "output_type": "execute_result",
          "data": {
            "text/plain": [
              "'“Brands that optimized their eGift and gift card eCommerce experience won this holiday season. As consumer behavior continued the rapid, digital migration, gift card programs are no exception. This is a huge win for retailers, as gift card recipients show up ready and excited to use them,” said [E1]Theresa McEndree[/E1], global head of marketing and corporate brand, [E2]Blackhawk Network[/E2]. “Digital adoption will continue and is here to stay. This stream of digital shoppers will benefit retail sales in the first quarter of the year. Nearly half of consumers surveyed expect to spend at least $25 more than the value of their gift cards—and many plan to spend them within the first few months following the holiday season.”'"
            ],
            "application/vnd.google.colaboratory.intrinsic+json": {
              "type": "string"
            }
          },
          "metadata": {},
          "execution_count": 5
        }
      ]
    },
    {
      "cell_type": "code",
      "source": [
        "import matplotlib.pyplot as plt\n",
        "#understanding the relations id plot \n",
        "df_train['relations_id'].value_counts().plot(kind='bar')\n",
        "plt.show()"
      ],
      "metadata": {
        "colab": {
          "base_uri": "https://localhost:8080/",
          "height": 425
        },
        "id": "WIfehkUQXH_d",
        "outputId": "1dcfffa0-6940-4857-e5ef-d26f99389d45"
      },
      "execution_count": null,
      "outputs": [
        {
          "output_type": "display_data",
          "data": {
            "text/plain": [
              "<Figure size 640x480 with 1 Axes>"
            ],
            "image/png": "[encoded data removed]"
          },
          "metadata": {}
        }
      ]
    },
    {
      "cell_type": "markdown",
      "source": [
        "Installing necessary libraries"
      ],
      "metadata": {
        "id": "CzyM57GSkRvB"
      }
    },
    {
      "cell_type": "code",
      "source": [
        "! pip install transformers"
      ],
      "metadata": {
        "colab": {
          "base_uri": "https://localhost:8080/"
        },
        "id": "uQyJJ6wIXuJY",
        "outputId": "681d9e61-ca96-44d3-956a-3a5ac78e5397"
      },
      "execution_count": null,
      "outputs": [
        {
          "output_type": "stream",
          "name": "stdout",
          "text": [
            "Looking in indexes: https://pypi.org/simple, https://us-python.pkg.dev/colab-wheels/public/simple/\n",
            "Collecting transformers\n",
            "  Using cached transformers-4.29.2-py3-none-any.whl (7.1 MB)\n",
            "Requirement already satisfied: filelock in /usr/local/lib/python3.10/dist-packages (from transformers) (3.12.0)\n",
            "Collecting huggingface-hub<1.0,>=0.14.1 (from transformers)\n",
            "  Using cached huggingface_hub-0.14.1-py3-none-any.whl (224 kB)\n",
            "Requirement already satisfied: numpy>=1.17 in /usr/local/lib/python3.10/dist-packages (from transformers) (1.22.4)\n",
            "Requirement already satisfied: packaging>=20.0 in /usr/local/lib/python3.10/dist-packages (from transformers) (23.1)\n",
            "Requirement already satisfied: pyyaml>=5.1 in /usr/local/lib/python3.10/dist-packages (from transformers) (6.0)\n",
            "Requirement already satisfied: regex!=2019.12.17 in /usr/local/lib/python3.10/dist-packages (from transformers) (2022.10.31)\n",
            "Requirement already satisfied: requests in /usr/local/lib/python3.10/dist-packages (from transformers) (2.27.1)\n",
            "Collecting tokenizers!=0.11.3,<0.14,>=0.11.1 (from transformers)\n",
            "  Using cached tokenizers-0.13.3-cp310-cp310-manylinux_2_17_x86_64.manylinux2014_x86_64.whl (7.8 MB)\n",
            "Requirement already satisfied: tqdm>=4.27 in /usr/local/lib/python3.10/dist-packages (from transformers) (4.65.0)\n",
            "Requirement already satisfied: fsspec in /usr/local/lib/python3.10/dist-packages (from huggingface-hub<1.0,>=0.14.1->transformers) (2023.4.0)\n",
            "Requirement already satisfied: typing-extensions>=3.7.4.3 in /usr/local/lib/python3.10/dist-packages (from huggingface-hub<1.0,>=0.14.1->transformers) (4.5.0)\n",
            "Requirement already satisfied: urllib3<1.27,>=1.21.1 in /usr/local/lib/python3.10/dist-packages (from requests->transformers) (1.26.15)\n",
            "Requirement already satisfied: certifi>=2017.4.17 in /usr/local/lib/python3.10/dist-packages (from requests->transformers) (2022.12.7)\n",
            "Requirement already satisfied: charset-normalizer~=2.0.0 in /usr/local/lib/python3.10/dist-packages (from requests->transformers) (2.0.12)\n",
            "Requirement already satisfied: idna<4,>=2.5 in /usr/local/lib/python3.10/dist-packages (from requests->transformers) (3.4)\n",
            "Installing collected packages: tokenizers, huggingface-hub, transformers\n",
            "Successfully installed huggingface-hub-0.14.1 tokenizers-0.13.3 transformers-4.29.2\n"
          ]
        }
      ]
    },
    {
      "cell_type": "markdown",
      "source": [
        "* DistilBERT: DistilBERT is a distilled version of the BERT (Bidirectional Encoder Representations from Transformers) model. It offers a smaller and faster alternative to BERT while still maintaining a comparable level of performance. DistilBERT provides a good balance between accuracy and computational efficiency, making it suitable for many NLP tasks."
      ],
      "metadata": {
        "id": "xZM4t3kRmLzM"
      }
    },
    {
      "cell_type": "code",
      "source": [
        "from transformers import DistilBertModel, DistilBertTokenizer\n",
        "import torch"
      ],
      "metadata": {
        "id": "iaLMlhEEaOaG"
      },
      "execution_count": null,
      "outputs": []
    },
    {
      "cell_type": "code",
      "source": [
        "model_name = 'distilbert-base-uncased'\n",
        "tokenizer = DistilBertTokenizer.from_pretrained(model_name)\n",
        "model = DistilBertModel.from_pretrained(model_name)"
      ],
      "metadata": {
        "colab": {
          "base_uri": "https://localhost:8080/",
          "height": 217,
          "referenced_widgets": [
            "ea9ee8a686ef4460a8bec105094c073e",
            "52a11e262b49476191b696cc33db8e9d",
            "8bb214016eed4b17b9b2020482bf7a18",
            "df4aa60da4874ec5a37ce940ab11882e",
            "562e16e57e224ae4a4f84a1d87dfc882",
            "7d89982f2bc64312abe9fff28a209a8a",
            "e25fc47fb6194aedbc9abb28ee9eedb7",
            "dec0b54e87704a0b8826e45291346191",
            "ad9ecb1ee6304ddeaa596ecd36fa2384",
            "7a14992f5ea346538ffffdcd39a8fb68",
            "659396b06e5c4731875093976201ce29",
            "2c46fec675ef489dae8bfb72f83cf954",
            "ffc478b367254e0c9d7c3a2e7b4590ec",
            "a80eb5d7bd174f78b880226bcfa3d513",
            "f0a67bc82b0a4558a0cad2424590de6d",
            "16251823ea934ce5a75434625f7efc50",
            "10f9faf7934c4fafb81dc0db1a0a3da8",
            "0aa11f01182a4547be0dbae1364bfaf9",
            "4c223ff690d245da959c8fb46d2b6a19",
            "fb728f6b95434fd99f9445aecb853f52",
            "782c873b80814832bd0ec8a167ed96c5",
            "b090a06aacc443b081217c8c87ef7e44",
            "f9b1326f1015407690d09e0f33f28900",
            "eba5d41f683e48168aab325742c193b7",
            "df1cea91e8214efab178857cb9491717",
            "d760cd9887d0486495f9e91708585ad4",
            "4fd88f86d6ab447f824e5595c230a1cf",
            "a985a7e384d94a6e93e0e01a97683549",
            "68b7aea788054ba2ba34bc1f6bcc3a77",
            "e4168616dd8c4de3ba79bdb39d70269b",
            "477f8020ed3d487382cce4490297c28d",
            "6993bcc6abab47ed8170ebf3ca1051c1",
            "13e6013defd748f2a4b9e4cb18040588",
            "ea83f4a9fa9d4ef395c620144b48d28f",
            "c8976cb367774010bd6aeee4d5104839",
            "6aea91d932014a59a5fb31a0632624ca",
            "536288ca0d694ce887d950b7ea3f1fb4",
            "73520bddd4c948ca95678e1331223eb6",
            "a02293d3d6814df0b32a1bf313a390b6",
            "e59f8a3a05d640e08e82912603b5d527",
            "14c1850223aa4ed5810f4fdbdd196eb8",
            "54f96164cbfb439d9eb0ac0e9615b2ed",
            "ab8e398e296a4fc99b76fa69529d81b3",
            "fadc0f2dcbad41f3ab11dc6e73781088"
          ]
        },
        "id": "RL6fVhfbabob",
        "outputId": "74fc2ea9-7b9b-4c9c-dd44-0f7403c63641"
      },
      "execution_count": null,
      "outputs": [
        {
          "output_type": "display_data",
          "data": {
            "text/plain": [
              "Downloading (…)solve/main/vocab.txt:   0%|          | 0.00/232k [00:00<?, ?B/s]"
            ],
            "application/vnd.jupyter.widget-view+json": {
              "version_major": 2,
              "version_minor": 0,
              "model_id": "ea9ee8a686ef4460a8bec105094c073e"
            }
          },
          "metadata": {}
        },
        {
          "output_type": "display_data",
          "data": {
            "text/plain": [
              "Downloading (…)okenizer_config.json:   0%|          | 0.00/28.0 [00:00<?, ?B/s]"
            ],
            "application/vnd.jupyter.widget-view+json": {
              "version_major": 2,
              "version_minor": 0,
              "model_id": "2c46fec675ef489dae8bfb72f83cf954"
            }
          },
          "metadata": {}
        },
        {
          "output_type": "display_data",
          "data": {
            "text/plain": [
              "Downloading (…)lve/main/config.json:   0%|          | 0.00/483 [00:00<?, ?B/s]"
            ],
            "application/vnd.jupyter.widget-view+json": {
              "version_major": 2,
              "version_minor": 0,
              "model_id": "f9b1326f1015407690d09e0f33f28900"
            }
          },
          "metadata": {}
        },
        {
          "output_type": "display_data",
          "data": {
            "text/plain": [
              "Downloading pytorch_model.bin:   0%|          | 0.00/268M [00:00<?, ?B/s]"
            ],
            "application/vnd.jupyter.widget-view+json": {
              "version_major": 2,
              "version_minor": 0,
              "model_id": "ea83f4a9fa9d4ef395c620144b48d28f"
            }
          },
          "metadata": {}
        },
        {
          "output_type": "stream",
          "name": "stderr",
          "text": [
            "Some weights of the model checkpoint at distilbert-base-uncased were not used when initializing DistilBertModel: ['vocab_projector.weight', 'vocab_layer_norm.bias', 'vocab_transform.weight', 'vocab_transform.bias', 'vocab_layer_norm.weight', 'vocab_projector.bias']\n",
            "- This IS expected if you are initializing DistilBertModel from the checkpoint of a model trained on another task or with another architecture (e.g. initializing a BertForSequenceClassification model from a BertForPreTraining model).\n",
            "- This IS NOT expected if you are initializing DistilBertModel from the checkpoint of a model that you expect to be exactly identical (initializing a BertForSequenceClassification model from a BertForSequenceClassification model).\n"
          ]
        }
      ]
    },
    {
      "cell_type": "code",
      "source": [
        "text_data = df_train['sentences']"
      ],
      "metadata": {
        "id": "foIpJpNgah-2"
      },
      "execution_count": null,
      "outputs": []
    },
    {
      "cell_type": "code",
      "source": [
        "my_text_data = list(text_data)"
      ],
      "metadata": {
        "id": "VreAm1B1bE2H"
      },
      "execution_count": null,
      "outputs": []
    },
    {
      "cell_type": "markdown",
      "source": [
        "* Tokenize and encode the text data: Use the DistilBERT tokenizer to tokenize and encode your text data."
      ],
      "metadata": {
        "id": "X1D6M4HBmha6"
      }
    },
    {
      "cell_type": "code",
      "source": [
        "encoded_inputs = tokenizer(my_text_data, padding=True, truncation=True, return_tensors='pt')"
      ],
      "metadata": {
        "id": "zpeAe5Qva38v"
      },
      "execution_count": null,
      "outputs": []
    },
    {
      "cell_type": "markdown",
      "source": [
        "* Pass the encoded inputs to the model: Use the encoded inputs as input to the DistilBERT model to obtain the extracted features."
      ],
      "metadata": {
        "id": "oMGzrfnzmlyX"
      }
    },
    {
      "cell_type": "code",
      "source": [
        "encoded_inputs"
      ],
      "metadata": {
        "colab": {
          "base_uri": "https://localhost:8080/"
        },
        "id": "OE8i1GoPqbYi",
        "outputId": "184a9f19-0203-4116-832b-942ff85316cf"
      },
      "execution_count": null,
      "outputs": [
        {
          "output_type": "execute_result",
          "data": {
            "text/plain": [
              "{'input_ids': tensor([[ 101, 1523, 9639,  ...,    0,    0,    0],\n",
              "        [ 101, 2023, 2003,  ...,    0,    0,    0],\n",
              "        [ 101, 2023, 2003,  ...,    0,    0,    0],\n",
              "        ...,\n",
              "        [ 101, 1523, 2057,  ...,    0,    0,    0],\n",
              "        [ 101, 1523, 2057,  ...,    0,    0,    0],\n",
              "        [ 101, 1523, 2023,  ...,    0,    0,    0]]), 'attention_mask': tensor([[1, 1, 1,  ..., 0, 0, 0],\n",
              "        [1, 1, 1,  ..., 0, 0, 0],\n",
              "        [1, 1, 1,  ..., 0, 0, 0],\n",
              "        ...,\n",
              "        [1, 1, 1,  ..., 0, 0, 0],\n",
              "        [1, 1, 1,  ..., 0, 0, 0],\n",
              "        [1, 1, 1,  ..., 0, 0, 0]])}"
            ]
          },
          "metadata": {},
          "execution_count": 13
        }
      ]
    },
    {
      "cell_type": "code",
      "source": [
        "print(encoded_inputs['input_ids'][0])"
      ],
      "metadata": {
        "colab": {
          "base_uri": "https://localhost:8080/"
        },
        "id": "ub4BhdyDkC5g",
        "outputId": "90264d7b-4ffc-469a-9e94-9fbb9ceefd30"
      },
      "execution_count": null,
      "outputs": [
        {
          "output_type": "stream",
          "name": "stdout",
          "text": [
            "tensor([  101,  1523,  9639,  2008, 23569, 27605,  5422,  2037,  1041,  5856,\n",
            "         6199,  1998,  5592,  4003, 17338, 15810,  3401,  3325,  2180,  2023,\n",
            "         6209,  2161,  1012,  2004,  7325,  5248,  2506,  1996,  5915,  1010,\n",
            "         3617,  9230,  1010,  5592,  4003,  3454,  2024,  2053,  6453,  1012,\n",
            "         2023,  2003,  1037,  4121,  2663,  2005, 16629,  1010,  2004,  5592,\n",
            "         4003, 15991,  2265,  2039,  3201,  1998,  7568,  2000,  2224,  2068,\n",
            "         1010,  1524,  2056,  1031,  1041,  2487,  1033, 14781, 11338, 10497,\n",
            "         9910,  1031,  1013,  1041,  2487,  1033,  1010,  3795,  2132,  1997,\n",
            "         5821,  1998,  5971,  4435,  1010,  1031,  1041,  2475,  1033,  2304,\n",
            "        17998,  2897,  1031,  1013,  1041,  2475,  1033,  1012,  1523,  3617,\n",
            "         9886,  2097,  3613,  1998,  2003,  2182,  2000,  2994,  1012,  2023,\n",
            "         5460,  1997,  3617,  4497,  7347,  2097,  5770,  7027,  4341,  1999,\n",
            "         1996,  2034,  4284,  1997,  1996,  2095,  1012,  3053,  2431,  1997,\n",
            "        10390, 12876,  5987,  2000,  5247,  2012,  2560,  1002,  2423,  2062,\n",
            "         2084,  1996,  3643,  1997,  2037,  5592,  5329,  1517,  1998,  2116,\n",
            "         2933,  2000,  5247,  2068,  2306,  1996,  2034,  2261,  2706,  2206,\n",
            "         1996,  6209,  2161,  1012,  1524,   102,     0,     0,     0,     0,\n",
            "            0,     0,     0,     0,     0,     0,     0,     0,     0,     0,\n",
            "            0,     0,     0,     0,     0,     0,     0,     0,     0,     0,\n",
            "            0,     0,     0,     0,     0,     0,     0,     0,     0,     0,\n",
            "            0,     0,     0,     0,     0,     0,     0,     0,     0,     0,\n",
            "            0,     0,     0,     0,     0])\n"
          ]
        }
      ]
    },
    {
      "cell_type": "code",
      "source": [
        "print(encoded_inputs['attention_mask'][0])"
      ],
      "metadata": {
        "colab": {
          "base_uri": "https://localhost:8080/"
        },
        "id": "6OWtd30hqU_D",
        "outputId": "d3e39db9-cc30-46cd-9d88-a2da8afbb586"
      },
      "execution_count": null,
      "outputs": [
        {
          "output_type": "stream",
          "name": "stdout",
          "text": [
            "tensor([1, 1, 1, 1, 1, 1, 1, 1, 1, 1, 1, 1, 1, 1, 1, 1, 1, 1, 1, 1, 1, 1, 1, 1,\n",
            "        1, 1, 1, 1, 1, 1, 1, 1, 1, 1, 1, 1, 1, 1, 1, 1, 1, 1, 1, 1, 1, 1, 1, 1,\n",
            "        1, 1, 1, 1, 1, 1, 1, 1, 1, 1, 1, 1, 1, 1, 1, 1, 1, 1, 1, 1, 1, 1, 1, 1,\n",
            "        1, 1, 1, 1, 1, 1, 1, 1, 1, 1, 1, 1, 1, 1, 1, 1, 1, 1, 1, 1, 1, 1, 1, 1,\n",
            "        1, 1, 1, 1, 1, 1, 1, 1, 1, 1, 1, 1, 1, 1, 1, 1, 1, 1, 1, 1, 1, 1, 1, 1,\n",
            "        1, 1, 1, 1, 1, 1, 1, 1, 1, 1, 1, 1, 1, 1, 1, 1, 1, 1, 1, 1, 1, 1, 1, 1,\n",
            "        1, 1, 1, 1, 1, 1, 1, 1, 1, 1, 1, 1, 1, 1, 1, 1, 1, 1, 1, 1, 1, 1, 0, 0,\n",
            "        0, 0, 0, 0, 0, 0, 0, 0, 0, 0, 0, 0, 0, 0, 0, 0, 0, 0, 0, 0, 0, 0, 0, 0,\n",
            "        0, 0, 0, 0, 0, 0, 0, 0, 0, 0, 0, 0, 0, 0, 0, 0, 0, 0, 0, 0, 0, 0, 0])\n"
          ]
        }
      ]
    },
    {
      "cell_type": "code",
      "source": [
        "encoded_inputs['input_ids'].shape"
      ],
      "metadata": {
        "colab": {
          "base_uri": "https://localhost:8080/"
        },
        "id": "dC3iX0jR-vWV",
        "outputId": "39d68952-f47c-42c4-b65f-ad149e90930d"
      },
      "execution_count": null,
      "outputs": [
        {
          "output_type": "execute_result",
          "data": {
            "text/plain": [
              "torch.Size([814, 215])"
            ]
          },
          "metadata": {},
          "execution_count": 23
        }
      ]
    },
    {
      "cell_type": "markdown",
      "source": [
        "why last hidden state is used.?"
      ],
      "metadata": {
        "id": "cM9P-5Wyootu"
      }
    },
    {
      "cell_type": "code",
      "source": [
        "with torch.no_grad():\n",
        "    outputs = model(**encoded_inputs)\n",
        "    features = outputs.last_hidden_state"
      ],
      "metadata": {
        "id": "hXVRCOmEba4F"
      },
      "execution_count": null,
      "outputs": []
    },
    {
      "cell_type": "code",
      "source": [
        "features[0][0]"
      ],
      "metadata": {
        "colab": {
          "base_uri": "https://localhost:8080/"
        },
        "id": "AFuON0dhbh7B",
        "outputId": "b28ee4b6-3db0-457c-8496-2f8d36e6d809"
      },
      "execution_count": null,
      "outputs": [
        {
          "output_type": "execute_result",
          "data": {
            "text/plain": [
              "tensor([-2.5937e-02, -2.8130e-01,  2.5150e-01,  9.9255e-02,  2.1767e-01,\n",
              "        -3.9666e-02,  8.2208e-02,  2.2253e-01, -1.8351e-01, -3.2620e-01,\n",
              "        -7.6489e-02, -2.5131e-01,  1.2909e-01,  3.0540e-01, -1.5692e-01,\n",
              "         3.0184e-02, -2.1520e-02,  3.8630e-01,  2.7099e-01,  6.4259e-02,\n",
              "        -2.5658e-01, -5.4001e-01,  3.9317e-01,  4.0183e-01,  1.2379e-01,\n",
              "        -3.4435e-01,  1.7088e-01, -4.4386e-01,  3.5878e-03,  1.5561e-01,\n",
              "         1.6252e-01,  3.5084e-01, -2.0291e-01, -3.3156e-01,  2.5210e-01,\n",
              "        -1.8584e-01,  9.6046e-03, -5.1485e-01, -2.3336e-01,  2.8642e-02,\n",
              "        -2.2054e-01,  1.6761e-01,  1.6241e-01, -1.0370e-01, -5.5251e-02,\n",
              "         1.6854e-01, -3.3006e+00, -1.1218e-02, -1.1030e-01, -2.3361e-01,\n",
              "         2.5611e-02, -1.7702e-02, -1.2709e-01,  1.2198e-01,  2.2434e-01,\n",
              "         1.6162e-01, -5.0513e-01,  3.0116e-01, -5.1491e-02, -4.9251e-02,\n",
              "         2.1268e-01,  4.6171e-02, -2.6103e-01, -2.1617e-01, -2.8631e-01,\n",
              "        -2.5395e-01,  1.6211e-02,  4.9497e-01, -3.1809e-01,  2.0938e-01,\n",
              "        -2.7957e-01, -3.9835e-01,  2.3496e-01, -3.2832e-01, -1.8364e-01,\n",
              "        -4.5728e-02, -8.8431e-02,  3.7040e-01,  3.6321e-02, -1.5882e-01,\n",
              "         2.2898e-02,  4.1564e-01,  2.9614e-01,  1.4780e-01,  2.7023e-02,\n",
              "         3.0718e-01, -2.8063e-03,  2.7660e-02,  4.6714e-01,  8.0514e-01,\n",
              "        -2.9670e-01, -3.6420e-02,  3.1969e-01,  3.7175e-01,  3.6638e-01,\n",
              "        -3.2142e-01,  1.5848e-01, -3.3580e-01,  9.7691e-02,  4.3339e-01,\n",
              "         4.8791e-01, -1.5374e-01,  2.9933e-01, -6.5170e-01,  1.6181e-01,\n",
              "        -3.1304e-01, -1.5509e-01, -5.4016e-01,  1.6016e-01, -1.8293e+00,\n",
              "         3.6615e-01,  1.4765e-01, -2.0454e-01, -1.8336e-01,  1.6870e-01,\n",
              "         5.0781e-01,  2.3149e-01, -1.3161e-01, -1.6939e-01, -2.5477e-01,\n",
              "         3.0330e-01,  4.7813e-01, -1.6558e-01, -2.8934e-01, -1.4910e-01,\n",
              "         2.6659e-01,  6.0536e-02,  1.9819e-03,  1.3405e-01,  3.0984e-01,\n",
              "         3.8950e-01,  1.4500e-01, -3.8517e-01, -2.5691e-01, -6.6367e-02,\n",
              "         2.1268e-01,  2.7212e-02, -4.7430e-02,  2.9310e-01,  3.5069e-02,\n",
              "        -8.8141e-02, -2.9437e-01, -2.2369e+00,  1.2882e-01,  6.8419e-01,\n",
              "        -4.8368e-02,  2.1193e-01,  6.4625e-02, -3.4836e-01,  7.5811e-02,\n",
              "         1.7325e-01,  1.1278e-02, -2.2635e-01, -2.4648e-02, -1.6523e-02,\n",
              "        -2.7673e-02, -4.5755e-01,  8.6132e-02,  2.4393e-01,  3.4219e-01,\n",
              "         1.6739e-01, -2.1749e-01, -7.4722e-02,  2.4866e-02, -5.1611e-01,\n",
              "         4.3532e-01,  2.8120e-01,  1.2633e-01, -7.2258e-02, -2.1447e-02,\n",
              "        -2.5417e-02,  1.8516e-01,  3.8405e-01, -9.4748e-02,  4.1623e-01,\n",
              "         1.9538e-01, -1.1175e-01,  1.1021e-01,  1.1258e-01,  3.0202e-01,\n",
              "        -5.3582e-01,  3.7720e-01,  2.6424e-01,  1.2640e-01,  2.4647e-01,\n",
              "        -4.7478e-01,  3.3619e-01, -2.7364e-01, -8.2233e-02,  2.2058e-03,\n",
              "        -5.9124e-02, -3.4747e-01, -1.2384e-01, -1.0227e-01,  1.9022e-01,\n",
              "         7.7530e-02,  1.9657e-01, -7.9963e-02,  1.6583e-01,  1.4365e-01,\n",
              "        -4.9029e-01, -3.5201e-03,  2.5292e-01, -3.3525e-02, -2.2406e-01,\n",
              "         2.9271e+00,  3.6348e-02, -1.5364e-01,  6.4839e-02,  1.7410e-01,\n",
              "         9.0954e-02, -1.2991e-01,  1.0845e-01, -8.8113e-02,  8.8676e-02,\n",
              "         1.6237e-01,  2.4088e-01,  2.1758e-01, -1.5285e-01, -1.0927e-01,\n",
              "         2.2532e-01,  2.9798e-01,  1.6502e-01,  1.4339e-01,  8.5570e-02,\n",
              "         1.2936e-01, -3.0538e-01, -1.1174e-01,  1.0148e-01, -8.6111e-01,\n",
              "         1.6783e-02,  9.9101e-02, -2.1570e-01,  1.2703e-01, -4.7292e-02,\n",
              "        -7.7408e-02, -7.4487e-03, -1.5833e-03, -1.1922e-01, -6.1843e-02,\n",
              "        -2.3438e-01,  8.1221e-03,  9.7104e-02,  2.1367e-01, -4.3756e-01,\n",
              "         1.4139e-01,  2.2051e-01, -9.5210e-02,  1.3155e-01, -3.7424e-01,\n",
              "         1.9858e-01,  6.6729e-02, -1.6747e-01,  4.3917e-02,  2.4387e-01,\n",
              "        -4.8187e-02,  3.7939e-01,  1.6079e-01,  1.5715e-01, -1.7945e-01,\n",
              "         4.3205e-02,  5.3975e-02,  4.6965e-02,  2.2179e-01, -2.7037e-01,\n",
              "        -5.1258e-01, -2.7342e-01, -1.9982e-01, -8.1831e-02,  5.6864e-02,\n",
              "         4.9823e-02, -1.9225e-01, -3.7474e-01, -2.2463e+00,  1.5726e-01,\n",
              "        -3.8359e-01,  3.5932e-01,  3.0176e-01,  3.5721e-02,  3.8685e-03,\n",
              "         2.1632e-02,  3.5216e-01, -8.0219e-03,  1.6006e-01,  2.6402e-01,\n",
              "         2.3937e-02,  6.6868e-02, -6.3271e-01,  2.1623e-01,  5.4106e-02,\n",
              "         4.9913e-02, -2.3078e-01, -2.6731e-01, -2.2463e-01,  1.8202e-01,\n",
              "         1.0942e-01,  5.6952e-02,  5.6291e-02, -1.0477e-02,  3.3205e-02,\n",
              "        -4.8040e-01, -1.3942e-01,  4.3554e-01,  3.8766e-02, -4.6723e-02,\n",
              "        -2.5512e-02, -9.8151e-02, -2.3855e-01, -3.8285e+00,  9.3084e-02,\n",
              "        -4.1320e-02, -2.6198e-01, -1.1985e-01, -2.4673e-02,  7.2915e-01,\n",
              "         1.0624e-01,  9.4016e-02,  1.3530e-01,  2.2721e-01, -2.3663e-01,\n",
              "        -9.0845e-02,  1.8963e-01,  1.7361e-01,  2.6907e-01,  7.6685e-01,\n",
              "        -1.8952e-02,  2.3095e-01,  9.1206e-02, -6.7337e-02, -6.6971e-01,\n",
              "        -1.7489e-01,  1.5044e-02,  1.3674e-01,  6.8831e-02, -3.3084e-01,\n",
              "        -2.8429e-01, -6.3410e-02,  5.9423e-02,  1.6989e-01, -2.7528e-01,\n",
              "        -1.7481e-01,  1.2207e-01, -1.1345e-01, -1.5397e-01,  1.1593e-01,\n",
              "        -1.4444e-01,  1.6770e-01, -1.9193e-01,  2.4313e-01,  7.7208e-01,\n",
              "         1.5053e-01, -5.0749e-02,  8.7607e-01,  1.4734e-01,  2.6156e-01,\n",
              "        -1.0274e-02, -2.3267e-01,  1.0632e-02,  3.2117e-01,  4.9318e-02,\n",
              "         1.1826e+00, -2.9458e-02,  3.1640e-02, -2.1025e-01,  2.2035e-01,\n",
              "        -1.4911e-01, -5.6586e-02,  3.0844e-01,  3.2048e-01, -2.1153e-01,\n",
              "         3.1798e-01, -1.3758e-01,  1.5611e-01, -4.0116e-01, -5.3787e-02,\n",
              "        -1.8870e-01, -2.6930e-01,  6.9793e-02, -9.8868e-02,  2.4387e-01,\n",
              "        -1.4116e-01, -8.6157e-01, -1.9134e-01, -5.2225e-01,  3.3672e-01,\n",
              "         1.1257e-01, -1.9900e-01, -6.5046e-02, -3.8788e-01, -1.0779e-01,\n",
              "        -3.0699e-02,  2.0049e-01, -4.1737e-03, -1.2614e-01, -2.4847e-04,\n",
              "         2.7944e-01, -5.1894e-01, -6.4756e-02, -2.6775e-01,  1.2468e-01,\n",
              "        -4.7737e-02,  1.8239e-01, -2.3156e-01, -3.7093e-03,  3.8782e-01,\n",
              "        -5.8646e-01,  7.7009e-02, -1.2464e-01,  3.3936e-02, -3.2271e-02,\n",
              "        -1.0250e-01, -1.0834e-01, -4.0088e-01,  2.0047e-02, -2.1949e-01,\n",
              "         2.3761e-01,  1.8710e-01, -1.3439e-01, -3.2752e-01,  1.8084e-01,\n",
              "        -2.4475e-01, -1.1722e-01,  1.0072e+00,  7.3272e-02, -1.1711e-01,\n",
              "         4.1723e-01,  2.5901e-01,  2.1255e-01,  5.3114e-01,  3.3042e-02,\n",
              "         1.6361e-02,  2.6188e-01,  6.8381e-02, -1.7263e-01, -1.9593e-01,\n",
              "        -2.2767e-01, -2.9155e-01, -6.6415e-02,  2.4538e-01,  6.8965e-02,\n",
              "        -2.4892e-01, -3.9671e-01, -2.9454e-03, -2.2046e-01, -1.4119e-02,\n",
              "         1.9073e-01,  3.4123e-02, -1.0056e-01,  3.0784e-01,  2.9223e-01,\n",
              "         1.5748e-02,  2.5695e-01,  3.1956e-02,  3.1013e-01,  1.2849e-01,\n",
              "         1.2360e-01, -2.2176e-01,  2.8775e-01, -1.7398e-01, -1.4644e-01,\n",
              "        -8.6468e-02, -3.7665e-01,  4.6375e-01,  1.9504e-01,  2.0665e-01,\n",
              "         3.6909e-02, -3.1791e-01, -2.9006e-01,  8.6698e-02,  1.7492e-01,\n",
              "        -1.9409e+00,  4.5353e-01,  1.9149e-01,  2.3062e-01, -1.4096e-01,\n",
              "        -4.4130e-02, -2.4390e-02,  4.4088e-01,  4.6370e-01,  7.3322e-02,\n",
              "        -1.6617e-01, -1.2982e-01,  6.4304e-04, -1.9734e-01,  2.2459e-01,\n",
              "        -4.7369e-01, -1.8993e-01,  5.0223e-02, -7.7979e-02,  1.2843e-02,\n",
              "        -3.7437e-01,  3.5377e-01,  3.5829e-01,  2.7145e-01,  8.1761e-02,\n",
              "        -1.0515e-01, -4.8069e-02,  4.1284e-01,  3.7391e-01,  1.2622e-01,\n",
              "        -2.9819e-01, -3.4196e-01, -5.6689e-01, -3.2888e-01,  2.7692e-01,\n",
              "        -2.7096e-01, -1.9633e-01,  2.6574e-02,  1.9130e-01,  2.9079e-01,\n",
              "        -5.4821e-01,  3.7855e-01,  2.0855e-01, -9.3564e-02,  4.1042e-01,\n",
              "         4.0207e-01, -1.3525e-01,  2.1837e-01, -1.8906e-01, -1.9222e-02,\n",
              "         1.9012e-01,  2.9852e-02,  3.0830e-02, -1.8752e-01, -3.7743e-01,\n",
              "        -1.0018e-01, -2.7039e-01,  3.4538e-01, -2.0108e-01, -5.0120e-01,\n",
              "         7.1200e-02, -4.2891e-01, -5.5325e-03,  5.6161e-01, -3.3918e-01,\n",
              "        -7.9292e-01, -1.4532e-01, -2.3474e-01, -1.9043e-01, -3.1111e-01,\n",
              "         5.3904e-01,  1.3302e-01, -4.0044e-01,  3.3286e-01, -2.6104e-01,\n",
              "         2.2037e-01,  1.0156e-01,  2.9173e-01, -3.0782e-01, -3.4787e-01,\n",
              "         7.8301e-02, -4.3352e-01, -4.5690e-01,  3.1673e-01, -3.2939e-01,\n",
              "         3.5365e-01, -9.7528e-02,  1.5605e-01, -2.8262e-01,  2.5322e-01,\n",
              "        -1.4832e-01, -1.1450e-01,  6.7217e-02,  1.6771e-01,  1.5811e-01,\n",
              "        -2.9544e-01, -2.3663e-01, -2.4303e-01, -1.7782e-01, -1.7819e-01,\n",
              "        -8.7435e-02,  3.4032e-01,  5.2233e-01,  4.4387e-01, -2.4672e-02,\n",
              "         4.8016e-02,  2.4670e-02,  2.0508e-02, -3.6593e-02,  1.9407e-01,\n",
              "        -1.3663e-01,  1.9435e-01, -2.0215e-02,  6.2178e-02,  2.1246e-01,\n",
              "        -4.0231e-01, -2.1058e-01, -2.9320e-01,  1.5927e+00,  7.5660e-02,\n",
              "         1.2683e-01,  2.7618e-01,  5.9297e-01, -3.7531e-02, -2.4535e-01,\n",
              "         3.8043e-01,  7.9443e-02,  2.8023e-01, -2.4049e-01, -5.7457e-03,\n",
              "        -1.4753e-01,  8.4724e-02,  2.4611e-01,  3.3345e-01,  4.7052e-01,\n",
              "        -2.1794e-01, -6.6493e-01,  9.6444e-02, -5.1249e-01,  2.9660e-01,\n",
              "         3.8970e-01,  1.0342e-01, -1.0767e-01,  1.1715e-01,  1.1284e-01,\n",
              "        -1.1238e-01, -1.9798e-02,  6.9889e-02, -1.6944e-01,  1.3222e-01,\n",
              "         4.9418e-01,  4.2369e-01, -3.5869e-01,  2.0826e-01, -1.0460e-01,\n",
              "        -1.7995e-01, -2.7979e-01,  1.0774e-01, -9.8380e-02, -1.7655e-01,\n",
              "         2.7587e-01, -1.8125e-01,  7.8302e-02,  4.9493e-01,  4.2274e-02,\n",
              "        -4.1205e-01,  2.4974e-01,  2.8850e-01,  1.6334e-03,  4.0729e-01,\n",
              "        -2.8702e-01,  2.9729e-01, -7.9029e-03, -2.7878e-01, -2.3057e-01,\n",
              "        -3.6610e-01, -2.4286e-01,  2.8298e-01,  3.5394e-01,  3.2721e-01,\n",
              "         3.0425e-01, -1.7538e-02, -2.8340e-02,  3.6628e-02, -1.6484e-01,\n",
              "         2.8131e-01,  1.2132e-01, -2.7470e-01,  1.6712e-01,  2.7697e-01,\n",
              "         2.4908e-01,  1.9820e-01,  4.3661e-01,  5.4920e-02,  4.3102e-01,\n",
              "         1.7286e-01, -7.0174e-02, -1.7478e+00,  8.4469e-02,  1.8913e-01,\n",
              "         4.2542e-01, -2.2593e-01,  2.9678e-01, -1.0613e-01, -1.3324e-01,\n",
              "         2.1705e-01, -1.3341e-01,  3.2919e-01,  4.2627e-01,  4.2520e-01,\n",
              "         7.3621e-02, -1.4636e-01,  2.1432e-01,  3.7002e-01, -4.1681e-01,\n",
              "        -4.0391e-01, -3.8190e-02,  3.4360e-01,  1.6472e-01, -1.1100e-01,\n",
              "        -1.3530e-01, -5.3763e-02,  3.3233e-02,  2.8237e-01, -2.6053e-01,\n",
              "         3.1802e-01,  2.1648e-01, -1.0887e-01,  5.4523e-01, -1.0022e-01,\n",
              "        -1.8811e-01,  3.0159e-01, -2.1360e-01, -1.7031e-01, -2.6100e-02,\n",
              "        -5.0930e-02, -1.2305e-01,  9.9903e-02,  6.0976e-01, -6.5324e-02,\n",
              "         2.4567e-01, -2.3651e-02,  2.7599e-04,  2.7977e-01, -9.6663e-02,\n",
              "         1.8372e-01, -1.2637e-01, -1.4031e-01,  1.1836e-01,  4.0478e-01,\n",
              "         6.1911e-02, -2.2014e-02, -1.3361e-01, -8.6418e-02,  3.2483e-01,\n",
              "         9.5712e-02, -2.0935e-01, -6.2639e-01, -9.1963e-03, -2.3743e-01,\n",
              "        -3.9030e-02, -3.1088e-02, -1.3567e-01, -2.2219e-01,  4.7546e-02,\n",
              "        -2.5059e-01, -2.3935e-01,  4.5087e-02, -1.9055e-01, -9.9691e-02,\n",
              "         2.3450e-01,  4.8933e-02, -4.1607e-02,  2.6538e-01,  2.8319e-01,\n",
              "         1.5923e-01,  1.4604e-01, -6.6304e-02, -2.5288e-01, -2.6772e-01,\n",
              "        -6.5520e-02,  8.1640e-02, -4.7764e+00, -3.1558e-01, -3.2400e-02,\n",
              "        -1.2444e-01, -1.9274e-01, -1.8503e-01, -7.4375e-02, -3.3966e-01,\n",
              "         1.6178e-02, -5.5717e-02,  3.1601e-02,  1.1632e-02, -1.7276e-01,\n",
              "        -2.1195e-01,  3.2423e-01,  1.1830e-01])"
            ]
          },
          "metadata": {},
          "execution_count": 17
        }
      ]
    },
    {
      "cell_type": "markdown",
      "source": [
        "* checking out the length of the features after getting the required features extracted. the features extracted from DistilBERT provide a compact and meaningful representation of the input sentences, capturing both the contextual information (relationships between words) and semantic representations (underlying meaning). These features serve as a rich source of information that can be leveraged for various natural language processing tasks."
      ],
      "metadata": {
        "id": "BhvOOc_rmvVv"
      }
    },
    {
      "cell_type": "code",
      "source": [
        "features[0].shape"
      ],
      "metadata": {
        "colab": {
          "base_uri": "https://localhost:8080/"
        },
        "id": "y_lXoac9-Vn2",
        "outputId": "7e96509e-7ffe-4c9a-87fb-24ddd7b1550d"
      },
      "execution_count": null,
      "outputs": [
        {
          "output_type": "execute_result",
          "data": {
            "text/plain": [
              "torch.Size([215, 768])"
            ]
          },
          "metadata": {},
          "execution_count": 19
        }
      ]
    },
    {
      "cell_type": "code",
      "source": [
        "len(features)"
      ],
      "metadata": {
        "id": "YZCV2rnAdK92"
      },
      "execution_count": null,
      "outputs": []
    },
    {
      "cell_type": "code",
      "source": [
        "y_train = df_train['relations_id']"
      ],
      "metadata": {
        "id": "afGUvRlVd0iq"
      },
      "execution_count": null,
      "outputs": []
    },
    {
      "cell_type": "markdown",
      "source": [
        "* Based on one of the authors , we used our study simple and used the logitic regression as our first model."
      ],
      "metadata": {
        "id": "HZR0tskJnpET"
      }
    },
    {
      "cell_type": "code",
      "source": [
        "X = features"
      ],
      "metadata": {
        "id": "M5QGbqadrBF9"
      },
      "execution_count": null,
      "outputs": []
    },
    {
      "cell_type": "code",
      "source": [
        "# train classifier\n",
        "from sklearn.linear_model import LogisticRegression\n",
        "\n",
        "# Reshape features\n",
        "X_reshaped = X.reshape(X.shape[0], -1)"
      ],
      "metadata": {
        "id": "4uLOr7LNdZfb"
      },
      "execution_count": null,
      "outputs": []
    },
    {
      "cell_type": "code",
      "source": [
        "logit = LogisticRegression()"
      ],
      "metadata": {
        "id": "iEyH2xSKeYT2"
      },
      "execution_count": null,
      "outputs": []
    },
    {
      "cell_type": "code",
      "source": [
        "logit.fit(X_reshaped,y_train)"
      ],
      "metadata": {
        "id": "jlM-5h-yeb7O"
      },
      "execution_count": null,
      "outputs": []
    },
    {
      "cell_type": "code",
      "source": [
        "# Calculate accuracy on the training set\n",
        "accuracy = logit.score(X_reshaped, y_train)\n",
        "print(\"Training accuracy:\", accuracy)"
      ],
      "metadata": {
        "id": "CUDTR2XBefkp"
      },
      "execution_count": null,
      "outputs": []
    },
    {
      "cell_type": "code",
      "source": [],
      "metadata": {
        "id": "_kdqh-KufnZh"
      },
      "execution_count": null,
      "outputs": []
    }
  ]
}